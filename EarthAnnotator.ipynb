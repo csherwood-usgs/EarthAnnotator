{
 "cells": [
  {
   "cell_type": "markdown",
   "metadata": {},
   "source": [
    "# \"EarthAnnotator\"\n",
    "\n",
    "## Prototype web-based image labeling tool"
   ]
  },
  {
   "cell_type": "markdown",
   "metadata": {},
   "source": [
    "Daniel Buscombe, daniel.buscombe@nau.edu October 2018\n",
    "Mods. by Chris Sherwood, csherwood@usgs.gov March 2019\n",
    "\n",
    "Implements the technique outlined by [Buscombe & Ritchie (2018)](https://www.mdpi.com/2076-3263/8/7/244)\n",
    "This version writes the same output info as the version in dl_tools."
   ]
  },
  {
   "cell_type": "markdown",
   "metadata": {},
   "source": [
    "### 1. Load libraries"
   ]
  },
  {
   "cell_type": "code",
   "execution_count": null,
   "metadata": {},
   "outputs": [],
   "source": [
    "from PIL import Image ##from imageio import imread\n",
    "import numpy as np\n",
    "import matplotlib.pyplot as plt\n",
    "import holoviews as hv\n",
    "from holoviews.streams import FreehandDraw\n",
    "hv.extension('bokeh')"
   ]
  },
  {
   "cell_type": "code",
   "execution_count": null,
   "metadata": {},
   "outputs": [],
   "source": [
    "from funcs.crf_utils import *\n",
    "from funcs.widgets_utils import *\n",
    "from funcs.file_select import FileBrowser\n",
    "from funcs.tile_utils import sliding_window\n",
    "global labels_widget"
   ]
  },
  {
   "cell_type": "code",
   "execution_count": null,
   "metadata": {},
   "outputs": [],
   "source": [
    "import panel, param\n",
    "from bokeh.plotting import figure\n",
    "from panel.layout import *\n",
    "from panel.widgets import *\n",
    "panel.extension()\n",
    "from joblib import Parallel, delayed, cpu_count\n",
    "from scipy.io import savemat"
   ]
  },
  {
   "cell_type": "markdown",
   "metadata": {},
   "source": [
    "### 2. Pick an image "
   ]
  },
  {
   "cell_type": "markdown",
   "metadata": {},
   "source": [
    "#### 2a. Use the GUI "
   ]
  },
  {
   "cell_type": "code",
   "execution_count": null,
   "metadata": {},
   "outputs": [],
   "source": [
    "file_picker = FileBrowser()\n",
    "file_picker.widget()\n",
    "imfile = file_picker.path"
   ]
  },
  {
   "cell_type": "markdown",
   "metadata": {},
   "source": [
    "#### 2b. Or hardwire the input image"
   ]
  },
  {
   "cell_type": "code",
   "execution_count": null,
   "metadata": {},
   "outputs": [],
   "source": [
    "# imfile = '/home/jovyan/EarthAnnotator/data/NewRiver_worldImageryRGB_20m.tif'"
   ]
  },
  {
   "cell_type": "code",
   "execution_count": null,
   "metadata": {},
   "outputs": [],
   "source": [
    "image_path = os.path.normpath(imfile)"
   ]
  },
  {
   "cell_type": "code",
   "execution_count": null,
   "metadata": {},
   "outputs": [],
   "source": [
    "## TODO - why do we need PIL to open the image?\n",
    "im = Image.open(image_path)\n",
    "im = im.convert(\"RGB\")\n",
    "nx, ny, nz = np.shape(im)\n",
    "print('Image is',image_path,'with size',nx,'x',ny,'x',nz)"
   ]
  },
  {
   "cell_type": "markdown",
   "metadata": {},
   "source": [
    "### 3. Make labels and colors"
   ]
  },
  {
   "cell_type": "markdown",
   "metadata": {},
   "source": [
    "#### 3a. Use the GUI\n",
    "#### Instructions:\n",
    "    Create class labels and assign each label a color"
   ]
  },
  {
   "cell_type": "code",
   "execution_count": null,
   "metadata": {
    "scrolled": true
   },
   "outputs": [],
   "source": [
    "label_editor, labels_widget = create_colorpicker()\n",
    "label_editor"
   ]
  },
  {
   "cell_type": "code",
   "execution_count": null,
   "metadata": {},
   "outputs": [],
   "source": [
    "labels, colors = get_labels_and_colors(label_editor)"
   ]
  },
  {
   "cell_type": "markdown",
   "metadata": {},
   "source": [
    "#### 3b. Or hardwire the labels and colors"
   ]
  },
  {
   "cell_type": "code",
   "execution_count": null,
   "metadata": {},
   "outputs": [],
   "source": [
    "# Matanzas labels and colors\n",
    "labels = ['sand','wetland_veg','water','dune_grass', 'woody_veg', 'structure','road','surf']\n",
    "colors = ['#FEE893', '#5F7D8E', '#0052A5', '#8DD080', '#076443', '#868e96','#808080','#0000ff']"
   ]
  },
  {
   "cell_type": "code",
   "execution_count": null,
   "metadata": {},
   "outputs": [],
   "source": [
    "labels"
   ]
  },
  {
   "cell_type": "code",
   "execution_count": null,
   "metadata": {},
   "outputs": [],
   "source": [
    "colors"
   ]
  },
  {
   "cell_type": "markdown",
   "metadata": {},
   "source": [
    "### 4. Freehand Drawing\n",
    "\n",
    "#### Instructions:\n",
    "1. Choose a label from the dropdown menu (and optionally choose a line width)\n",
    "2. Click the 'pen' tool, and freehand draw on image. If you screw up, tap a line to select it then press BACKSPACE key while the mouse is within the plot area.\n",
    "3. When done with freehand draw for each label, click \"Done with Label\"\n",
    "4. Choose next label and repeat steps 1-3.\n",
    "5. When done with all labels, proceed to next cell"
   ]
  },
  {
   "cell_type": "code",
   "execution_count": null,
   "metadata": {},
   "outputs": [],
   "source": [
    "def set_active_tool(plot, element):\n",
    "    \"\"\"set freehand draw tool to be initially active\"\"\"\n",
    "    plot.state.toolbar.active_drag = plot.state.tools[5]\n",
    "\n",
    "class EarthAnnotate(param.Parameterized):\n",
    "    anno = {}\n",
    "    label = param.ObjectSelector(objects=labels, default=labels[0]) \n",
    "    done_with_label = param.Action(lambda x: x.anno.update( **{x.label: \n",
    "                            np.column_stack(access_annotation_coordinates(x.freehand_stream))}),\n",
    "                                 precedence=1.0)\n",
    "    \n",
    "    def make_view(self, **kwargs):\n",
    "        color_index = labels.index(self.label)\n",
    "        opts = dict(line_width=brush, color=colors[color_index], \n",
    "                    finalize_hooks=[set_active_tool], width=w, height=h)\n",
    "        path = hv.Path([[(0, 0), (0, 0)]]).options(**opts)\n",
    "        self.freehand_stream = FreehandDraw(source=path, num_objects=999)\n",
    "        bounds=(0,0,nyt,nxt)   # Coordinate system: (left, bottom, top, right)\n",
    "        img = hv.RGB(imt, bounds=bounds) #hv.Image(im, bounds=bounds)\n",
    "\n",
    "        return img * path"
   ]
  },
  {
   "cell_type": "code",
   "execution_count": null,
   "metadata": {},
   "outputs": [],
   "source": [
    "# all these variables in the workspace end up **kwargs ??\n",
    "# tile size for input image...but in this version, only one tile\n",
    "nyt = 650\n",
    "nxt = 650\n",
    "imt=np.array(im)\n",
    "w=nxt\n",
    "h=nyt\n",
    "# intial brush size\n",
    "brush=3\n",
    "e_anno = EarthAnnotate(name=\"Image Annotation\")\n",
    "panel.Row(e_anno.make_view, e_anno)"
   ]
  },
  {
   "cell_type": "code",
   "execution_count": null,
   "metadata": {},
   "outputs": [],
   "source": [
    "anno = e_anno.anno"
   ]
  },
  {
   "cell_type": "markdown",
   "metadata": {},
   "source": [
    "### 5. Set parameters"
   ]
  },
  {
   "cell_type": "code",
   "execution_count": null,
   "metadata": {},
   "outputs": [],
   "source": [
    "# Specify the size of the tiles (96 is smallest)\n",
    "tile = 96 "
   ]
  },
  {
   "cell_type": "markdown",
   "metadata": {},
   "source": [
    "#### Make directories for example tiles"
   ]
  },
  {
   "cell_type": "code",
   "execution_count": null,
   "metadata": {},
   "outputs": [],
   "source": [
    "outpath = 'tiles'+str(tile)\n",
    "#=======================================================\n",
    "try:\n",
    "  os.mkdir(outpath)\n",
    "except:\n",
    "  pass\n",
    "\n",
    "for f in labels:\n",
    "  try:\n",
    "     os.mkdir(outpath+os.sep+f)\n",
    "  except:\n",
    "     pass"
   ]
  },
  {
   "cell_type": "code",
   "execution_count": null,
   "metadata": {},
   "outputs": [],
   "source": [
    "# This parameter determines what fraction of the tile must match the label\n",
    "thres = .9 # fraction of tile that must match label"
   ]
  },
  {
   "cell_type": "code",
   "execution_count": null,
   "metadata": {},
   "outputs": [],
   "source": [
    "# This parameter penalizes small pieces of segmentation that are\n",
    "# spatially isolated -- enforces more spatially consistent segmentations\n",
    "compat_spat=12 ##non-dimensional\n",
    "# larger values = larger pieces of segmentation allowed"
   ]
  },
  {
   "cell_type": "code",
   "execution_count": null,
   "metadata": {},
   "outputs": [],
   "source": [
    "# This parameter penalizes pieces of segmentation that are\n",
    "# less uniform in color -- enforces more consistent segmentations in colorspace\n",
    "compat_col=40 # value from int_seg_crf_matanzas.py\n",
    "#compat_col=100 #non-dimensional\n",
    "# larger values = pieces of segmentation with less similar image intesity allowed"
   ]
  },
  {
   "cell_type": "code",
   "execution_count": null,
   "metadata": {},
   "outputs": [],
   "source": [
    "# Scaling parameters: tolerances in intensity and location\n",
    "# theta = 100 # value from int_seg_crf_matanzas.py\n",
    "theta=60 \n",
    "# larger values = pixel pairs can be considered to be the same class label with less similar location/intensity"
   ]
  },
  {
   "cell_type": "code",
   "execution_count": null,
   "metadata": {},
   "outputs": [],
   "source": [
    "# number of iterations for algorithm (generally, larger the better, but only to a point)\n",
    "# n_iter=15\n",
    "n_iter=20 # value from int_seg_crf_matanzas.py"
   ]
  },
  {
   "cell_type": "code",
   "execution_count": null,
   "metadata": {},
   "outputs": [],
   "source": [
    "### 6. Run pixel model"
   ]
  },
  {
   "cell_type": "code",
   "execution_count": null,
   "metadata": {},
   "outputs": [],
   "source": [
    "%%time\n",
    "Lc = get_sparse_label(anno, nx, ny, labels, brush)\n",
    "res , p= getCRF(im, Lc, theta, n_iter, labels, compat_spat, compat_col)"
   ]
  },
  {
   "cell_type": "code",
   "execution_count": null,
   "metadata": {},
   "outputs": [],
   "source": [
    "out = get_rgb(res, labels, colors)"
   ]
  },
  {
   "cell_type": "code",
   "execution_count": null,
   "metadata": {},
   "outputs": [],
   "source": [
    "plt.figure(figsize=(10,10))\n",
    "plt.imshow(im)\n",
    "plt.imshow(out, alpha=0.5);"
   ]
  },
  {
   "cell_type": "markdown",
   "metadata": {},
   "source": [
    "### 7. Write image to file"
   ]
  },
  {
   "cell_type": "code",
   "execution_count": null,
   "metadata": {},
   "outputs": [],
   "source": [
    "write_label_image(imfile, out)"
   ]
  },
  {
   "cell_type": "code",
   "execution_count": null,
   "metadata": {},
   "outputs": [],
   "source": [
    "\n",
    "savemat(image_path.split('.')[0]+'_mres.mat', {'sparse': Lc.astype('int'), 'class': res.astype('int'), 'preds': p.astype('float16'), 'labels': labels}, do_compression = True)\n"
   ]
  },
  {
   "cell_type": "code",
   "execution_count": null,
   "metadata": {},
   "outputs": [],
   "source": [
    "print('Generating tiles from dense class map ....')\n",
    "\n",
    "Z,ind = sliding_window(np.asarray(im), (tile,tile,3), (int(tile/2), int(tile/2),3))\n",
    "\n",
    "C,ind = sliding_window(res, (tile,tile), (int(tile/2), int(tile/2)))\n",
    "\n",
    "w = Parallel(n_jobs=-1, verbose=0, pre_dispatch='2 * n_jobs', max_nbytes=None)(delayed(writeout)(Z[k], C[k], labels, outpath+os.sep, thres) for k in range(len(Z)))"
   ]
  },
  {
   "cell_type": "code",
   "execution_count": null,
   "metadata": {},
   "outputs": [],
   "source": []
  }
 ],
 "metadata": {
  "kernelspec": {
   "display_name": "Python (earthannotator)",
   "language": "python",
   "name": "ea"
  },
  "language_info": {
   "codemirror_mode": {
    "name": "ipython",
    "version": 3
   },
   "file_extension": ".py",
   "mimetype": "text/x-python",
   "name": "python",
   "nbconvert_exporter": "python",
   "pygments_lexer": "ipython3",
   "version": "3.6.7"
  }
 },
 "nbformat": 4,
 "nbformat_minor": 2
}
